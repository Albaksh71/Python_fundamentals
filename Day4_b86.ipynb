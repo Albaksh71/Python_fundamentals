{
 "cells": [
  {
   "cell_type": "code",
   "execution_count": null,
   "id": "b158a626-048a-49b4-9c89-c9f1039a539a",
   "metadata": {},
   "outputs": [],
   "source": [
    "Introduction to list data type :"
   ]
  },
  {
   "cell_type": "code",
   "execution_count": null,
   "id": "6f48ecee-6188-470e-bc71-06a624d60f36",
   "metadata": {},
   "outputs": [],
   "source": [
    "Defination : A llist is a collection of item declared in a particular order.\n",
    "classification : it is classifid as a mutable datatype \n",
    "how to define / declare the list datatype ........[]"
   ]
  },
  {
   "cell_type": "code",
   "execution_count": null,
   "id": "b68d37a8-03af-4181-8589-1a69a3545780",
   "metadata": {},
   "outputs": [],
   "source": []
  },
  {
   "cell_type": "code",
   "execution_count": 1,
   "id": "ea686a77-478a-424b-a772-c02ec59e0d82",
   "metadata": {},
   "outputs": [],
   "source": [
    "students = ['afsha','pradeepa','naveen','prakash','muskaan','abbu']"
   ]
  },
  {
   "cell_type": "code",
   "execution_count": 2,
   "id": "4673faa7-7914-4a50-b8f3-85bc9b4a35ab",
   "metadata": {},
   "outputs": [
    {
     "name": "stdout",
     "output_type": "stream",
     "text": [
      "['afsha', 'pradeepa', 'naveen', 'prakash', 'muskaan', 'abbu']\n"
     ]
    }
   ],
   "source": [
    "print(students)"
   ]
  },
  {
   "cell_type": "code",
   "execution_count": 3,
   "id": "afcdd827-73b0-42b2-96bc-beb5f762d721",
   "metadata": {},
   "outputs": [
    {
     "data": {
      "text/plain": [
       "list"
      ]
     },
     "execution_count": 3,
     "metadata": {},
     "output_type": "execute_result"
    }
   ],
   "source": [
    "type(students)"
   ]
  },
  {
   "cell_type": "code",
   "execution_count": null,
   "id": "7e4684d5-d08b-4f2e-bed3-ff2ee696a6f6",
   "metadata": {},
   "outputs": [],
   "source": [
    "introduction to indexing :indexing will be starting from the value 0 onwards"
   ]
  },
  {
   "cell_type": "code",
   "execution_count": null,
   "id": "c45af1d7-dd25-4f1e-80e5-ee3838f77ba3",
   "metadata": {},
   "outputs": [],
   "source": [
    "# req i want to get pradeepa name in the output......?"
   ]
  },
  {
   "cell_type": "code",
   "execution_count": 4,
   "id": "38f3ea41-041f-46bf-bda6-276939f064d4",
   "metadata": {},
   "outputs": [
    {
     "name": "stdout",
     "output_type": "stream",
     "text": [
      "pradeepa\n"
     ]
    }
   ],
   "source": [
    "print(students[1])"
   ]
  },
  {
   "cell_type": "code",
   "execution_count": 5,
   "id": "bc1e1dee-5535-4a35-b80c-78012a550899",
   "metadata": {},
   "outputs": [
    {
     "name": "stdout",
     "output_type": "stream",
     "text": [
      "Pradeepa\n"
     ]
    }
   ],
   "source": [
    "print(students[1].title())"
   ]
  },
  {
   "cell_type": "code",
   "execution_count": 6,
   "id": "b89c1264-efaa-4bbf-9437-5807ffb6b9bc",
   "metadata": {},
   "outputs": [
    {
     "name": "stdout",
     "output_type": "stream",
     "text": [
      "Prakash\n"
     ]
    }
   ],
   "source": [
    "print(students[3].title())"
   ]
  },
  {
   "cell_type": "code",
   "execution_count": null,
   "id": "35acb81a-8d9f-4a7f-b578-95329d3ade3e",
   "metadata": {},
   "outputs": [],
   "source": [
    "1. how to add new elements to the list\n",
    "1. how to modify the elements int the lost\n",
    "3. how to delete the elements in tthe lists "
   ]
  },
  {
   "cell_type": "code",
   "execution_count": null,
   "id": "60845744-c998-43b6-ae1c-a44764850e5b",
   "metadata": {},
   "outputs": [],
   "source": [
    "#rer : i want to add joseph to the above "
   ]
  },
  {
   "cell_type": "code",
   "execution_count": 8,
   "id": "16f7ec46-e1a3-48e5-b3ca-e130e105584f",
   "metadata": {},
   "outputs": [],
   "source": [
    "students.append('joseph')"
   ]
  },
  {
   "cell_type": "code",
   "execution_count": 9,
   "id": "1a8bd728-fe83-459f-8a23-4afe33524f51",
   "metadata": {},
   "outputs": [
    {
     "name": "stdout",
     "output_type": "stream",
     "text": [
      "['afsha', 'pradeepa', 'naveen', 'prakash', 'muskaan', 'abbu', 'joseph']\n"
     ]
    }
   ],
   "source": [
    "print(students)"
   ]
  },
  {
   "cell_type": "code",
   "execution_count": null,
   "id": "38b3375f-75ea-4bab-9a2a-d5fa46091d2f",
   "metadata": {},
   "outputs": [],
   "source": [
    "# req : i want to add santosh to the above list .....? "
   ]
  },
  {
   "cell_type": "code",
   "execution_count": 10,
   "id": "afb96dd5-1892-4289-8df4-bfdca080d778",
   "metadata": {},
   "outputs": [],
   "source": [
    "students.append('santosh')"
   ]
  },
  {
   "cell_type": "code",
   "execution_count": 11,
   "id": "a2b06dd5-a386-42a8-a442-e95784a1790d",
   "metadata": {},
   "outputs": [
    {
     "name": "stdout",
     "output_type": "stream",
     "text": [
      "['afsha', 'pradeepa', 'naveen', 'prakash', 'muskaan', 'abbu', 'joseph', 'santosh']\n"
     ]
    }
   ],
   "source": [
    "print(students)"
   ]
  },
  {
   "cell_type": "code",
   "execution_count": null,
   "id": "2059ac10-2d5e-4684-b3e0-222c4a769d60",
   "metadata": {},
   "outputs": [],
   "source": [
    "# req : i want to add afreen t the aboe list...in the 2nd index positionstu"
   ]
  },
  {
   "cell_type": "code",
   "execution_count": 12,
   "id": "fef3923e-a005-414c-ad8d-af2d6d709b49",
   "metadata": {},
   "outputs": [],
   "source": [
    "students .insert(2,'afreen')"
   ]
  },
  {
   "cell_type": "code",
   "execution_count": 13,
   "id": "9661fc7b-0dd0-454a-a22f-e51f0f21a08c",
   "metadata": {},
   "outputs": [
    {
     "name": "stdout",
     "output_type": "stream",
     "text": [
      "['afsha', 'pradeepa', 'afreen', 'naveen', 'prakash', 'muskaan', 'abbu', 'joseph', 'santosh']\n"
     ]
    }
   ],
   "source": [
    "print(students)"
   ]
  },
  {
   "cell_type": "code",
   "execution_count": 14,
   "id": "b1844831-ce9a-4be8-b535-978ef50a5faa",
   "metadata": {},
   "outputs": [
    {
     "name": "stdout",
     "output_type": "stream",
     "text": [
      "afreen\n"
     ]
    }
   ],
   "source": [
    "print(students[2])"
   ]
  },
  {
   "cell_type": "code",
   "execution_count": null,
   "id": "cfbeedfc-63e3-4c45-a470-b3edc933dde6",
   "metadata": {},
   "outputs": [],
   "source": [
    "interview question : what is the diff btw append and inster method in a list,can you pls explain?"
   ]
  },
  {
   "cell_type": "code",
   "execution_count": null,
   "id": "d9d0682a-92ef-43eb-8a13-234da715a7ee",
   "metadata": {},
   "outputs": [],
   "source": [
    "# req: i want to maodify afsha to sonam"
   ]
  },
  {
   "cell_type": "code",
   "execution_count": 15,
   "id": "5ca4c91c-e301-4e93-99bf-5902c49fdb75",
   "metadata": {},
   "outputs": [],
   "source": [
    "students[0] = 'sonam'"
   ]
  },
  {
   "cell_type": "code",
   "execution_count": null,
   "id": "f5fa1887-e185-4eaa-b91f-3c2e5c626695",
   "metadata": {},
   "outputs": [],
   "source": []
  },
  {
   "cell_type": "code",
   "execution_count": null,
   "id": "5e3a5816-ef50-4285-a896-2b05a4bec362",
   "metadata": {},
   "outputs": [],
   "source": []
  },
  {
   "cell_type": "code",
   "execution_count": null,
   "id": "477d58c1-446c-4549-9366-3606fe722bd4",
   "metadata": {},
   "outputs": [],
   "source": []
  },
  {
   "cell_type": "code",
   "execution_count": 16,
   "id": "cca25168-fa5f-4342-93df-cafb8e6efacd",
   "metadata": {},
   "outputs": [],
   "source": [
    "del students[3] # it will do permanent delete."
   ]
  },
  {
   "cell_type": "code",
   "execution_count": 17,
   "id": "cf720990-1b15-4164-8738-38722b037ed5",
   "metadata": {},
   "outputs": [
    {
     "name": "stdout",
     "output_type": "stream",
     "text": [
      "['sonam', 'pradeepa', 'afreen', 'prakash', 'muskaan', 'abbu', 'joseph', 'santosh']\n"
     ]
    }
   ],
   "source": [
    "print(students)"
   ]
  },
  {
   "cell_type": "code",
   "execution_count": null,
   "id": "069b70ee-19f2-4a7f-b014-2951f22f7828",
   "metadata": {},
   "outputs": [],
   "source": [
    "#temp deleting the elements using pop method :\n",
    "pop will be by default deleting the last element in the list."
   ]
  },
  {
   "cell_type": "code",
   "execution_count": 18,
   "id": "0fabc342-6e8b-475d-8cf0-3c53e8de0e70",
   "metadata": {},
   "outputs": [
    {
     "name": "stdout",
     "output_type": "stream",
     "text": [
      "['sonam', 'pradeepa', 'afreen', 'prakash', 'muskaan', 'abbu', 'joseph', 'santosh']\n"
     ]
    }
   ],
   "source": [
    "print(students)"
   ]
  },
  {
   "cell_type": "code",
   "execution_count": 19,
   "id": "dba2e6e0-5053-4ff9-afc4-899bdf78b4b1",
   "metadata": {},
   "outputs": [],
   "source": [
    "x= students.pop()"
   ]
  },
  {
   "cell_type": "code",
   "execution_count": 20,
   "id": "24949bc6-94bd-4fa9-9e4d-7c7e019b3e46",
   "metadata": {},
   "outputs": [
    {
     "name": "stdout",
     "output_type": "stream",
     "text": [
      "['sonam', 'pradeepa', 'afreen', 'prakash', 'muskaan', 'abbu', 'joseph']\n"
     ]
    }
   ],
   "source": [
    "print(students)"
   ]
  },
  {
   "cell_type": "code",
   "execution_count": 21,
   "id": "8caa8068-d59d-43df-bcb4-1dc8f07fac85",
   "metadata": {},
   "outputs": [
    {
     "name": "stdout",
     "output_type": "stream",
     "text": [
      "santosh\n"
     ]
    }
   ],
   "source": [
    "print(x)"
   ]
  },
  {
   "cell_type": "code",
   "execution_count": null,
   "id": "44a21601-54ab-49d8-b3fc-364f5306406e",
   "metadata": {},
   "outputs": [],
   "source": [
    "interview question : what is the diff btw deleter and pop method in a list"
   ]
  },
  {
   "cell_type": "code",
   "execution_count": null,
   "id": "12f4e216-5c53-4e6b-a797-eaac0bda56c1",
   "metadata": {},
   "outputs": [],
   "source": [
    "#is"
   ]
  }
 ],
 "metadata": {
  "kernelspec": {
   "display_name": "Python 3 (ipykernel)",
   "language": "python",
   "name": "python3"
  },
  "language_info": {
   "codemirror_mode": {
    "name": "ipython",
    "version": 3
   },
   "file_extension": ".py",
   "mimetype": "text/x-python",
   "name": "python",
   "nbconvert_exporter": "python",
   "pygments_lexer": "ipython3",
   "version": "3.11.7"
  }
 },
 "nbformat": 4,
 "nbformat_minor": 5
}
