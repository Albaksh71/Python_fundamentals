{
 "cells": [
  {
   "cell_type": "code",
   "execution_count": null,
   "id": "cae21423-d31c-4f69-bd0c-0a13b1047528",
   "metadata": {},
   "outputs": [],
   "source": [
    "Adding whhitespaces to strings :"
   ]
  },
  {
   "cell_type": "code",
   "execution_count": 2,
   "id": "0159b1de-5c48-4adc-9b56-7a36e4096c37",
   "metadata": {},
   "outputs": [
    {
     "name": "stdout",
     "output_type": "stream",
     "text": [
      "fav_prog_language:pyhtonjavac++swiftc\n"
     ]
    }
   ],
   "source": [
    "print(\"fav_prog_language:pyhtonjavac++swiftc\")"
   ]
  },
  {
   "cell_type": "code",
   "execution_count": 11,
   "id": "c96464f0-5b2b-4c58-8072-a408adf4e45c",
   "metadata": {},
   "outputs": [
    {
     "name": "stdout",
     "output_type": "stream",
     "text": [
      "fav-prog_language:\n",
      "python\n",
      "java\n",
      "c++\n",
      "swift\n",
      "c\n"
     ]
    }
   ],
   "source": [
    "print(\"fav-prog_language:\\npython\\njava\\nc++\\nswift\\nc\")"
   ]
  },
  {
   "cell_type": "code",
   "execution_count": null,
   "id": "c26b15c3-162a-429d-86bc-5d22f6bebc01",
   "metadata": {},
   "outputs": [],
   "source": [
    "#\\n ------> new line delimiter"
   ]
  },
  {
   "cell_type": "code",
   "execution_count": 12,
   "id": "508471db-b323-4d34-9f01-6066e25124d0",
   "metadata": {},
   "outputs": [
    {
     "name": "stdout",
     "output_type": "stream",
     "text": [
      "fav_prog_language:\n",
      "\tpython\n",
      "\tjava\n",
      "\tc++\n",
      "\tswift\n",
      "\tc\n"
     ]
    }
   ],
   "source": [
    "print(\"fav_prog_language:\\n\\tpython\\n\\tjava\\n\\tc++\\n\\tswift\\n\\tc\")"
   ]
  },
  {
   "cell_type": "code",
   "execution_count": null,
   "id": "ce59954a-aad7-4622-bf67-aece529c4fbd",
   "metadata": {},
   "outputs": [],
   "source": [
    "\\t======>tab delimiter"
   ]
  },
  {
   "cell_type": "code",
   "execution_count": null,
   "id": "414bca4d-0fca-4098-9f6a-3b4135ba4753",
   "metadata": {},
   "outputs": [],
   "source": [
    "removing whotespaces from strings :"
   ]
  },
  {
   "cell_type": "code",
   "execution_count": 4,
   "id": "0f78c76e-7a2a-4607-88ee-fb35091687c6",
   "metadata": {},
   "outputs": [
    {
     "name": "stdout",
     "output_type": "stream",
     "text": [
      "  python\n"
     ]
    }
   ],
   "source": [
    "name = \"  python\"\n",
    "print(name)"
   ]
  },
  {
   "cell_type": "code",
   "execution_count": 5,
   "id": "9a8675e5-c8c8-4672-819e-c162a7177cc2",
   "metadata": {},
   "outputs": [
    {
     "name": "stdout",
     "output_type": "stream",
     "text": [
      "python  \n"
     ]
    }
   ],
   "source": [
    "name2 = \"python  \"\n",
    "print(name2)"
   ]
  },
  {
   "cell_type": "code",
   "execution_count": 6,
   "id": "8a9ef951-9ea5-41c0-a773-07e585c274a9",
   "metadata": {},
   "outputs": [
    {
     "name": "stdout",
     "output_type": "stream",
     "text": [
      "python\n"
     ]
    }
   ],
   "source": [
    "name3 = \"python\"\n",
    "print(name3)"
   ]
  },
  {
   "cell_type": "code",
   "execution_count": 8,
   "id": "05b197be-0ab4-4fe0-ae3e-6fe2ea76112e",
   "metadata": {},
   "outputs": [
    {
     "data": {
      "text/plain": [
       "'python'"
      ]
     },
     "execution_count": 8,
     "metadata": {},
     "output_type": "execute_result"
    }
   ],
   "source": [
    "name.lstrip()"
   ]
  },
  {
   "cell_type": "code",
   "execution_count": 9,
   "id": "299b6cc3-a513-4eab-b56e-240634a13c47",
   "metadata": {},
   "outputs": [
    {
     "data": {
      "text/plain": [
       "'python'"
      ]
     },
     "execution_count": 9,
     "metadata": {},
     "output_type": "execute_result"
    }
   ],
   "source": [
    "name2.rstrip()"
   ]
  },
  {
   "cell_type": "code",
   "execution_count": null,
   "id": "69a72146-1f2d-4c53-931d-d2cefe69b22d",
   "metadata": {},
   "outputs": [],
   "source": [
    "name3.strip()"
   ]
  },
  {
   "cell_type": "code",
   "execution_count": null,
   "id": "8caa2cb0-b44e-4d68-ba88-6794fadd57cf",
   "metadata": {},
   "outputs": [],
   "source": []
  },
  {
   "cell_type": "code",
   "execution_count": null,
   "id": "0f6578f9-ec63-4dd5-acff-d812f7540383",
   "metadata": {},
   "outputs": [],
   "source": []
  },
  {
   "cell_type": "code",
   "execution_count": null,
   "id": "f8b6d2bd-0e73-4fa5-99e7-60f1c212d498",
   "metadata": {},
   "outputs": [],
   "source": []
  },
  {
   "cell_type": "code",
   "execution_count": null,
   "id": "c03cb9a6-4979-494d-8007-7948c10d7ae7",
   "metadata": {},
   "outputs": [],
   "source": []
  },
  {
   "cell_type": "code",
   "execution_count": null,
   "id": "db492238-15e3-44df-b07f-71ed5fa4488f",
   "metadata": {},
   "outputs": [],
   "source": []
  }
 ],
 "metadata": {
  "kernelspec": {
   "display_name": "Python 3 (ipykernel)",
   "language": "python",
   "name": "python3"
  },
  "language_info": {
   "codemirror_mode": {
    "name": "ipython",
    "version": 3
   },
   "file_extension": ".py",
   "mimetype": "text/x-python",
   "name": "python",
   "nbconvert_exporter": "python",
   "pygments_lexer": "ipython3",
   "version": "3.11.7"
  }
 },
 "nbformat": 4,
 "nbformat_minor": 5
}
